{
 "cells": [
  {
   "cell_type": "markdown",
   "metadata": {},
   "source": [
    "<center>\n",
    "    <img src=\"https://cf-courses-data.s3.us.cloud-object-storage.appdomain.cloud/IBMDeveloperSkillsNetwork-DS0105EN-SkillsNetwork/labs/Module2/images/SN_web_lightmode.png\" width=\"300\" alt=\"cognitiveclass.ai logo\">\n",
    "</center>\n"
   ]
  },
  {
   "cell_type": "markdown",
   "metadata": {},
   "source": [
    "#### Add your code below following the instructions given in the course\n"
   ]
  },
  {
   "cell_type": "markdown",
   "metadata": {},
   "source": [
    "# My Jupyter Notebook on IBM Watson Studio "
   ]
  },
  {
   "cell_type": "markdown",
   "metadata": {},
   "source": [
    "**MOHSIN PARMAR**\n",
    "\n",
    "Data Scientist"
   ]
  },
  {
   "cell_type": "markdown",
   "metadata": {},
   "source": [
    "_I am interested in data science because I love mathematics,visualizations and  python programming and mostly importantly, I want to solve real world problems using Data Science._"
   ]
  },
  {
   "cell_type": "markdown",
   "metadata": {},
   "source": [
    "### The Following Code will display the sum of the first 'n' natural numbers"
   ]
  },
  {
   "cell_type": "code",
   "execution_count": 4,
   "metadata": {},
   "outputs": [
    {
     "name": "stdin",
     "output_type": "stream",
     "text": [
      " 15\n"
     ]
    },
    {
     "name": "stdout",
     "output_type": "stream",
     "text": [
      "The sum of the first 15 natural numbers is 120\n"
     ]
    }
   ],
   "source": [
    "n= int(input())\n",
    "print('The sum of the first' ,n, 'natural numbers is', (n*(n+1))//2) "
   ]
  },
  {
   "cell_type": "markdown",
   "metadata": {},
   "source": [
    "#### Some essential Tools for Data Science\n",
    "1. Python Programming\n",
    "2. R Programming\n",
    "3. MS SQ LServer\n",
    "4. PowerBI/Tableau\n",
    "\n",
    "#### Table representing the top 3  countries with lowest population\n",
    "| SR NO.  | COUNTRY NAME | POPULATION |\n",
    "| ------ | ------------  | ---------- |\n",
    "| 1.      | VATICAN CITY  | 800 |\n",
    "| 2.      | MONTSERRAT   | 4626 |\n",
    "| 3.      | TUVALU      | 10778 |\n",
    "\n",
    "[Introduction to Python](https://www.w3schools.com/python/python_intro.asp)\n"
   ]
  }
 ],
 "metadata": {
  "kernelspec": {
   "display_name": "Python",
   "language": "python",
   "name": "conda-env-python-py"
  },
  "language_info": {
   "codemirror_mode": {
    "name": "ipython",
    "version": 3
   },
   "file_extension": ".py",
   "mimetype": "text/x-python",
   "name": "python",
   "nbconvert_exporter": "python",
   "pygments_lexer": "ipython3",
   "version": "3.7.12"
  }
 },
 "nbformat": 4,
 "nbformat_minor": 4
}
